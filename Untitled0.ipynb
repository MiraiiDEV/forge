{
  "nbformat": 4,
  "nbformat_minor": 0,
  "metadata": {
    "colab": {
      "provenance": [],
      "authorship_tag": "ABX9TyPcIUvsbwOoOn6hNJTirHMC",
      "include_colab_link": true
    },
    "kernelspec": {
      "name": "python3",
      "display_name": "Python 3"
    },
    "language_info": {
      "name": "python"
    }
  },
  "cells": [
    {
      "cell_type": "markdown",
      "metadata": {
        "id": "view-in-github",
        "colab_type": "text"
      },
      "source": [
        "<a href=\"https://colab.research.google.com/github/MiraiiDEV/forge/blob/master/Untitled0.ipynb\" target=\"_parent\"><img src=\"https://colab.research.google.com/assets/colab-badge.svg\" alt=\"Open In Colab\"/></a>"
      ]
    },
    {
      "cell_type": "code",
      "execution_count": 21,
      "metadata": {
        "colab": {
          "base_uri": "https://localhost:8080/"
        },
        "id": "uSoFXWorkHTz",
        "outputId": "ec5370e5-7db8-4ce4-bd52-8b81a979b231"
      },
      "outputs": [
        {
          "output_type": "stream",
          "name": "stdout",
          "text": [
            "Requirement already satisfied: python-binance in /usr/local/lib/python3.10/dist-packages (1.0.17)\n",
            "Requirement already satisfied: requests in /usr/local/lib/python3.10/dist-packages (from python-binance) (2.27.1)\n",
            "Requirement already satisfied: six in /usr/local/lib/python3.10/dist-packages (from python-binance) (1.16.0)\n",
            "Requirement already satisfied: dateparser in /usr/local/lib/python3.10/dist-packages (from python-binance) (1.1.8)\n",
            "Requirement already satisfied: aiohttp in /usr/local/lib/python3.10/dist-packages (from python-binance) (3.8.5)\n",
            "Requirement already satisfied: ujson in /usr/local/lib/python3.10/dist-packages (from python-binance) (5.8.0)\n",
            "Requirement already satisfied: websockets in /usr/local/lib/python3.10/dist-packages (from python-binance) (11.0.3)\n",
            "Requirement already satisfied: pycryptodome in /usr/local/lib/python3.10/dist-packages (from python-binance) (3.18.0)\n",
            "Requirement already satisfied: attrs>=17.3.0 in /usr/local/lib/python3.10/dist-packages (from aiohttp->python-binance) (23.1.0)\n",
            "Requirement already satisfied: charset-normalizer<4.0,>=2.0 in /usr/local/lib/python3.10/dist-packages (from aiohttp->python-binance) (2.0.12)\n",
            "Requirement already satisfied: multidict<7.0,>=4.5 in /usr/local/lib/python3.10/dist-packages (from aiohttp->python-binance) (6.0.4)\n",
            "Requirement already satisfied: async-timeout<5.0,>=4.0.0a3 in /usr/local/lib/python3.10/dist-packages (from aiohttp->python-binance) (4.0.2)\n",
            "Requirement already satisfied: yarl<2.0,>=1.0 in /usr/local/lib/python3.10/dist-packages (from aiohttp->python-binance) (1.9.2)\n",
            "Requirement already satisfied: frozenlist>=1.1.1 in /usr/local/lib/python3.10/dist-packages (from aiohttp->python-binance) (1.4.0)\n",
            "Requirement already satisfied: aiosignal>=1.1.2 in /usr/local/lib/python3.10/dist-packages (from aiohttp->python-binance) (1.3.1)\n",
            "Requirement already satisfied: python-dateutil in /usr/local/lib/python3.10/dist-packages (from dateparser->python-binance) (2.8.2)\n",
            "Requirement already satisfied: pytz in /usr/local/lib/python3.10/dist-packages (from dateparser->python-binance) (2022.7.1)\n",
            "Requirement already satisfied: regex!=2019.02.19,!=2021.8.27 in /usr/local/lib/python3.10/dist-packages (from dateparser->python-binance) (2022.10.31)\n",
            "Requirement already satisfied: tzlocal in /usr/local/lib/python3.10/dist-packages (from dateparser->python-binance) (5.0.1)\n",
            "Requirement already satisfied: urllib3<1.27,>=1.21.1 in /usr/local/lib/python3.10/dist-packages (from requests->python-binance) (1.26.16)\n",
            "Requirement already satisfied: certifi>=2017.4.17 in /usr/local/lib/python3.10/dist-packages (from requests->python-binance) (2023.7.22)\n",
            "Requirement already satisfied: idna<4,>=2.5 in /usr/local/lib/python3.10/dist-packages (from requests->python-binance) (3.4)\n"
          ]
        }
      ],
      "source": [
        "pip install python-binance"
      ]
    },
    {
      "cell_type": "code",
      "source": [
        "pip install ta"
      ],
      "metadata": {
        "colab": {
          "base_uri": "https://localhost:8080/"
        },
        "id": "aj86tqqXkUas",
        "outputId": "5b9dd575-4bbe-4bf0-cbb6-f239e9a0e15d"
      },
      "execution_count": 22,
      "outputs": [
        {
          "output_type": "stream",
          "name": "stdout",
          "text": [
            "Requirement already satisfied: ta in /usr/local/lib/python3.10/dist-packages (0.10.2)\n",
            "Requirement already satisfied: numpy in /usr/local/lib/python3.10/dist-packages (from ta) (1.22.4)\n",
            "Requirement already satisfied: pandas in /usr/local/lib/python3.10/dist-packages (from ta) (1.5.3)\n",
            "Requirement already satisfied: python-dateutil>=2.8.1 in /usr/local/lib/python3.10/dist-packages (from pandas->ta) (2.8.2)\n",
            "Requirement already satisfied: pytz>=2020.1 in /usr/local/lib/python3.10/dist-packages (from pandas->ta) (2022.7.1)\n",
            "Requirement already satisfied: six>=1.5 in /usr/local/lib/python3.10/dist-packages (from python-dateutil>=2.8.1->pandas->ta) (1.16.0)\n"
          ]
        }
      ]
    },
    {
      "cell_type": "code",
      "source": [
        "import pandas as pd\n",
        "from binance.client import Client\n",
        "import ta\n",
        "klinesT = Client().get_historical_klines(\"BTCUSDT\", Client.KLINE_INTERVAL_1HOUR, \"01 January 2017\")\n",
        "df = pd.DataFrame(klinesT, columns = ['timestamp', 'open', 'high', 'low', 'close', 'volume', 'close_time', 'quote_av', 'trades', 'tb_base_av', 'tb_quote_av', 'ignore' ] )\n"
      ],
      "metadata": {
        "id": "7ODtQZVAkmaS"
      },
      "execution_count": 23,
      "outputs": []
    },
    {
      "cell_type": "code",
      "source": [
        "del df ['ignore']\n",
        "del df ['close_time']\n",
        "del df ['quote_av']\n",
        "del df ['trades']\n",
        "del df ['tb_base_av']\n",
        "del df ['tb_quote_av']\n",
        "\n",
        "df['close'] = pd.to_numeric(df['close'])\n",
        "df['high'] = pd.to_numeric(df['high'])\n",
        "df['low'] = pd.to_numeric(df['low'])\n",
        "df['open'] = pd.to_numeric(df['open'])\n"
      ],
      "metadata": {
        "id": "P2SIzU3Mmz5m"
      },
      "execution_count": 24,
      "outputs": []
    },
    {
      "cell_type": "code",
      "source": [
        "df = df.set_index(df['timestamp'])\n",
        "df.index = pd.to_datetime(df.index, unit='ms')\n",
        "\n",
        "del df['timestamp']\n"
      ],
      "metadata": {
        "id": "TF_XWsKLouRN"
      },
      "execution_count": 25,
      "outputs": []
    },
    {
      "cell_type": "code",
      "source": [
        "df['SMA200'] = ta.trend.sma_indicator(df['close'], 200)\n",
        "df['SMA600'] = ta.trend.sma_indicator(df['close'], 600)\n"
      ],
      "metadata": {
        "id": "CmN0S16IpPn8"
      },
      "execution_count": 26,
      "outputs": []
    },
    {
      "cell_type": "code",
      "source": [
        "usdt = 1000\n",
        "btc = 0\n",
        "lastIndex = df.first_valid_index()\n",
        "\n",
        "for index, row in df.iterrows():\n",
        "    if df ['SMA200'][lastIndex] > df['SMA600'][lastIndex] and usdt > 10:\n",
        "      btc = usdt / df['close'][index]\n",
        "      btc = btc - 0.007 * btc\n",
        "      usdt = 0\n",
        "      print(\"Buy BTC at\",df['close'][index], '$ the', index)\n",
        "\n",
        "    if df['SMA200'][lastIndex] < df['SMA600'][lastIndex] and btc > 0.0001:\n",
        "      usdt = btc * df['close'][index]\n",
        "      usdt = usdt - 0.007 * usdt\n",
        "      btc = 0\n",
        "      print(\"Sell BTC at\", df['close'][index],'$ the', index)\n",
        "    lastIndex = index"
      ],
      "metadata": {
        "colab": {
          "base_uri": "https://localhost:8080/"
        },
        "id": "CBIBYpgrp79j",
        "outputId": "edef7430-b276-4489-d3e1-13b002211eab"
      },
      "execution_count": 27,
      "outputs": [
        {
          "output_type": "stream",
          "name": "stdout",
          "text": [
            "Buy BTC at 4176.24 $ the 2017-09-11 10:00:00\n",
            "Sell BTC at 4259.44 $ the 2017-09-12 13:00:00\n",
            "Buy BTC at 4302.02 $ the 2017-10-01 08:00:00\n",
            "Sell BTC at 16351.02 $ the 2017-12-27 05:00:00\n",
            "Buy BTC at 14219.61 $ the 2018-01-10 06:00:00\n",
            "Sell BTC at 14195.0 $ the 2018-01-15 12:00:00\n",
            "Buy BTC at 11082.94 $ the 2018-02-19 18:00:00\n",
            "Sell BTC at 8704.0 $ the 2018-03-11 07:00:00\n",
            "Buy BTC at 8018.98 $ the 2018-04-16 21:00:00\n",
            "Sell BTC at 8665.97 $ the 2018-05-14 00:00:00\n",
            "Buy BTC at 6584.36 $ the 2018-07-07 10:00:00\n",
            "Sell BTC at 7087.99 $ the 2018-08-07 11:00:00\n",
            "Buy BTC at 6902.74 $ the 2018-08-28 04:00:00\n",
            "Sell BTC at 6355.0 $ the 2018-09-11 03:00:00\n",
            "Buy BTC at 6669.36 $ the 2018-09-27 19:00:00\n",
            "Sell BTC at 6309.02 $ the 2018-10-12 22:00:00\n",
            "Buy BTC at 6573.58 $ the 2018-10-20 10:00:00\n",
            "Sell BTC at 6491.85 $ the 2018-10-28 10:00:00\n",
            "Buy BTC at 4125.4 $ the 2018-12-24 04:00:00\n",
            "Sell BTC at 3588.24 $ the 2019-01-13 02:00:00\n",
            "Buy BTC at 3626.58 $ the 2019-02-12 04:00:00\n",
            "Sell BTC at 7660.98 $ the 2019-06-09 18:00:00\n",
            "Buy BTC at 9105.21 $ the 2019-06-17 06:00:00\n",
            "Sell BTC at 9431.52 $ the 2019-07-17 04:00:00\n",
            "Buy BTC at 11692.8 $ the 2019-08-06 01:00:00\n",
            "Sell BTC at 10886.0 $ the 2019-08-20 01:00:00\n",
            "Buy BTC at 10541.4 $ the 2019-09-08 03:00:00\n",
            "Sell BTC at 10028.87 $ the 2019-09-22 23:00:00\n",
            "Buy BTC at 9660.0 $ the 2019-10-27 17:00:00\n",
            "Sell BTC at 8564.64 $ the 2019-11-15 05:00:00\n",
            "Buy BTC at 7206.3 $ the 2019-12-27 00:00:00\n",
            "Sell BTC at 9601.09 $ the 2020-02-24 19:00:00\n",
            "Buy BTC at 6368.68 $ the 2020-04-01 03:00:00\n",
            "Sell BTC at 8859.62 $ the 2020-05-27 04:00:00\n",
            "Buy BTC at 10115.56 $ the 2020-06-02 11:00:00\n",
            "Sell BTC at 9403.01 $ the 2020-06-18 13:00:00\n",
            "Buy BTC at 9290.23 $ the 2020-07-13 18:00:00\n",
            "Sell BTC at 9117.69 $ the 2020-07-17 10:00:00\n",
            "Buy BTC at 9164.57 $ the 2020-07-18 16:00:00\n",
            "Sell BTC at 11400.12 $ the 2020-08-27 01:00:00\n",
            "Buy BTC at 10417.22 $ the 2020-09-21 23:00:00\n",
            "Sell BTC at 10571.36 $ the 2020-10-06 19:00:00\n",
            "Buy BTC at 11363.33 $ the 2020-10-10 18:00:00\n",
            "Sell BTC at 32801.15 $ the 2021-01-24 07:00:00\n",
            "Buy BTC at 37366.02 $ the 2021-02-05 03:00:00\n",
            "Sell BTC at 47789.87 $ the 2021-03-02 22:00:00\n",
            "Buy BTC at 54632.79 $ the 2021-03-10 08:00:00\n",
            "Sell BTC at 57854.32 $ the 2021-03-29 11:00:00\n",
            "Buy BTC at 58670.64 $ the 2021-04-02 20:00:00\n",
            "Sell BTC at 54744.24 $ the 2021-04-22 14:00:00\n",
            "Buy BTC at 57584.01 $ the 2021-05-07 19:00:00\n",
            "Sell BTC at 47964.69 $ the 2021-05-15 22:00:00\n",
            "Buy BTC at 39952.7 $ the 2021-06-16 09:00:00\n",
            "Sell BTC at 33982.26 $ the 2021-06-23 07:00:00\n",
            "Buy BTC at 38242.96 $ the 2021-07-27 14:00:00\n",
            "Sell BTC at 45150.33 $ the 2021-09-12 06:00:00\n",
            "Buy BTC at 49476.51 $ the 2021-10-05 07:00:00\n",
            "Sell BTC at 56989.77 $ the 2021-11-19 09:00:00\n",
            "Buy BTC at 51450.57 $ the 2021-12-27 15:00:00\n",
            "Sell BTC at 46999.98 $ the 2022-01-03 02:00:00\n",
            "Buy BTC at 44065.25 $ the 2022-02-07 18:00:00\n",
            "Sell BTC at 38137.91 $ the 2022-02-23 00:00:00\n",
            "Buy BTC at 39387.57 $ the 2022-03-06 07:00:00\n",
            "Sell BTC at 39316.99 $ the 2022-03-10 21:00:00\n",
            "Buy BTC at 41062.31 $ the 2022-03-17 05:00:00\n",
            "Sell BTC at 40776.38 $ the 2022-03-17 17:00:00\n",
            "Buy BTC at 42191.28 $ the 2022-03-19 20:00:00\n",
            "Sell BTC at 40803.87 $ the 2022-04-11 14:00:00\n",
            "Buy BTC at 30425.0 $ the 2022-06-03 04:00:00\n",
            "Sell BTC at 27932.6 $ the 2022-06-12 16:00:00\n",
            "Buy BTC at 20987.27 $ the 2022-07-10 20:00:00\n",
            "Sell BTC at 21229.52 $ the 2022-08-21 05:00:00\n",
            "Buy BTC at 20246.35 $ the 2022-09-13 18:00:00\n",
            "Sell BTC at 18766.83 $ the 2022-09-20 17:00:00\n",
            "Buy BTC at 19973.75 $ the 2022-10-07 08:00:00\n",
            "Sell BTC at 19187.86 $ the 2022-10-15 04:00:00\n",
            "Buy BTC at 20719.26 $ the 2022-10-27 06:00:00\n",
            "Sell BTC at 18108.48 $ the 2022-11-10 20:00:00\n",
            "Buy BTC at 16934.23 $ the 2022-12-03 20:00:00\n",
            "Sell BTC at 16591.96 $ the 2022-12-22 17:00:00\n",
            "Buy BTC at 17205.95 $ the 2023-01-09 05:00:00\n",
            "Sell BTC at 21816.37 $ the 2023-02-12 00:00:00\n",
            "Buy BTC at 24758.6 $ the 2023-02-19 14:00:00\n",
            "Sell BTC at 22343.94 $ the 2023-03-04 04:00:00\n",
            "Buy BTC at 27331.24 $ the 2023-03-18 04:00:00\n",
            "Sell BTC at 27418.91 $ the 2023-04-24 10:00:00\n",
            "Buy BTC at 27166.14 $ the 2023-06-02 08:00:00\n",
            "Sell BTC at 26486.28 $ the 2023-06-07 09:00:00\n",
            "Buy BTC at 30100.75 $ the 2023-06-22 07:00:00\n",
            "Sell BTC at 30293.97 $ the 2023-07-16 12:00:00\n"
          ]
        }
      ]
    },
    {
      "cell_type": "code",
      "source": [
        "    finalResult = usdt + btc * df['close'].iloc[-1]\n",
        "    print(\"Final result\",finalResult,'USDT')"
      ],
      "metadata": {
        "colab": {
          "base_uri": "https://localhost:8080/"
        },
        "id": "QQ3DyZ2UznLg",
        "outputId": "72602983-999c-4e73-a38f-e177f95303f0"
      },
      "execution_count": 28,
      "outputs": [
        {
          "output_type": "stream",
          "name": "stdout",
          "text": [
            "Final result 10953.924500351744 USDT\n"
          ]
        }
      ]
    },
    {
      "cell_type": "code",
      "source": [
        "print(\"Buy and hold result\", (1000 / df['close'].iloc[0]) * df['close'].iloc[-1], 'USDT')"
      ],
      "metadata": {
        "colab": {
          "base_uri": "https://localhost:8080/"
        },
        "id": "-Q8vrUrN0UJl",
        "outputId": "8b21d027-3a36-4e22-9f29-01dab8c65680"
      },
      "execution_count": 29,
      "outputs": [
        {
          "output_type": "stream",
          "name": "stdout",
          "text": [
            "Buy and hold result 6864.682524026244 USDT\n"
          ]
        }
      ]
    }
  ]
}